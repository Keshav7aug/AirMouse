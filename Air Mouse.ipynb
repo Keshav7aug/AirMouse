{
 "cells": [
  {
   "cell_type": "code",
   "execution_count": 1,
   "id": "16fc10f7",
   "metadata": {},
   "outputs": [],
   "source": [
    "import cv2\n",
    "import time\n",
    "import mouse\n",
    "import HandTrackingModule as htm\n",
    "import pyautogui\n",
    "import numpy as np"
   ]
  },
  {
   "cell_type": "code",
   "execution_count": 7,
   "id": "faf1a0f1",
   "metadata": {},
   "outputs": [],
   "source": [
    "def getChangeRatio(size, oldPos, newPos):\n",
    "    val = abs(oldPos-newPos)\n",
    "    return val/size\n",
    "def scaleTo(oldPos, val=0.6):\n",
    "    newPos = []\n",
    "    for pos in oldPos:\n",
    "        newPos.append(pos/val)\n",
    "    return tuple(newPos)\n",
    "def getDistance(p1, p2):\n",
    "    ans = ((p2[2]-p1[2])**2 + (p2[1]-p1[1])**2)**0.5\n",
    "    return ans\n",
    "def rightClick():\n",
    "    mouse.click(\"right\")\n",
    "def leftClick():\n",
    "    mouse.click(\"left\")\n",
    "def doubleClick():\n",
    "    mouse.click(\"double\")\n",
    "def changePos(oldPos, newPos, width, height):\n",
    "    if oldPos is None or newPos is None:\n",
    "        return\n",
    "    oldPos = scaleTo(oldPos)\n",
    "    newPos = scaleTo(newPos)\n",
    "    changeX = (newPos[1]-oldPos[1])\n",
    "    changeY = (newPos[2]-oldPos[2])\n",
    "    X = width*newPos[1]\n",
    "    Y = height*newPos[2]\n",
    "    oldPos = mouse.get_position()\n",
    "    thresh = 0.1\n",
    "    X = oldPos[0] if getChangeRatio(width, oldPos[0], X)<thresh else X\n",
    "    Y = oldPos[1] if getChangeRatio(height, oldPos[1], Y)<thresh else Y\n",
    "    mouse.move(X,Y,absolute=True)"
   ]
  },
  {
   "cell_type": "code",
   "execution_count": 8,
   "id": "b2f3f0f8",
   "metadata": {
    "scrolled": false
   },
   "outputs": [],
   "source": [
    "smooth = 3\n",
    "pLocX, pLocY = 0, 0\n",
    "cLocX, cLocY = 0, 0\n",
    "pTime = 0\n",
    "cTime = 0\n",
    "wCam, hCam = 640, 480\n",
    "frameR = 150\n",
    "wScr, hScr = pyautogui.size()\n",
    "cap = cv2.VideoCapture(0)\n",
    "cap.set(3, wCam)\n",
    "cap.set(4, hCam)\n",
    "detector = htm.HandDetector()\n",
    "clicked=False\n",
    "while True:\n",
    "    _, img = cap.read()\n",
    "    img = detector.findHands(img)\n",
    "    lmList = detector.findPosition(img,draw=False)\n",
    "    \n",
    "    if len(lmList)>0:\n",
    "        x1, y1 = lmList[8][1:]\n",
    "        x2, y2 = lmList[12][1:]\n",
    "    cv2.rectangle(img, (frameR, frameR), (wCam-frameR, hCam-frameR), (255,0,255), 2)\n",
    "    \n",
    "    fingers = detector.fingersUp()\n",
    "    if fingers[1]==1 and sum(fingers)==1:\n",
    "        x3 = np.interp(x1, (frameR, wCam-frameR), (0, wScr))\n",
    "        y3 = np.interp(y1, (frameR, hCam-frameR), (0, hScr))\n",
    "        cLocX, cLocY = pLocX + (x3 - pLocX)/smooth, pLocY + (y3 - pLocY)/smooth \n",
    "        mouse.move(cLocX,cLocY)\n",
    "        pLocX, pLocY = cLocX, cLocY\n",
    "        cv2.circle(img, (x1, y1), 15, (255, 0, 255), cv2.FILLED)\n",
    "        clicked=False\n",
    "    if fingers[1]==1 and fingers[2]==1 and sum(fingers)==2:\n",
    "        dist = detector.findDistance(8,12)\n",
    "        if dist<=40:\n",
    "            leftClick()\n",
    "            clicked=True\n",
    "            cv2.circle(img, (x1, y1), 15, (0, 0, 255), cv2.FILLED)\n",
    "    if fingers[1]==1 and fingers[4]==1 and sum(fingers)==2:\n",
    "        rightClick()\n",
    "        clicked=True\n",
    "    cTime = time.time()\n",
    "    fps = 1/(cTime - pTime)\n",
    "    pTime = cTime\n",
    "    cv2.putText(img, f\"{int(fps)}\", (10,70), cv2.FONT_HERSHEY_COMPLEX,3,(255,0,255),3)\n",
    "    cv2.imshow(\"Frame\",img)\n",
    "    if cv2.waitKey(25) & 0xFF == ord('q'):\n",
    "        break\n",
    "cap.release()\n",
    "cv2.destroyAllWindows()"
   ]
  },
  {
   "cell_type": "code",
   "execution_count": 19,
   "id": "6aafa05c",
   "metadata": {},
   "outputs": [],
   "source": []
  },
  {
   "cell_type": "code",
   "execution_count": null,
   "id": "5df7c75b",
   "metadata": {},
   "outputs": [],
   "source": []
  }
 ],
 "metadata": {
  "kernelspec": {
   "display_name": "Python 3 (ipykernel)",
   "language": "python",
   "name": "python3"
  },
  "language_info": {
   "codemirror_mode": {
    "name": "ipython",
    "version": 3
   },
   "file_extension": ".py",
   "mimetype": "text/x-python",
   "name": "python",
   "nbconvert_exporter": "python",
   "pygments_lexer": "ipython3",
   "version": "3.10.4"
  }
 },
 "nbformat": 4,
 "nbformat_minor": 5
}
